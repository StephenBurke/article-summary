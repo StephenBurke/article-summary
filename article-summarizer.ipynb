{
 "cells": [
  {
   "cell_type": "code",
   "execution_count": 2,
   "id": "blank-cache",
   "metadata": {},
   "outputs": [],
   "source": [
    "import pickle\n",
    "with open('article.p', 'rb') as f:\n",
    "    TEXT = pickle.load(f)"
   ]
  },
  {
   "cell_type": "code",
   "execution_count": 3,
   "id": "typical-ranking",
   "metadata": {},
   "outputs": [],
   "source": [
    "import spacy\n",
    "nlp = spacy.load('en_core_web_sm')\n",
    "article = nlp(TEXT)\n",
    "sents = list(article.sents)"
   ]
  },
  {
   "cell_type": "code",
   "execution_count": 4,
   "id": "powered-annual",
   "metadata": {},
   "outputs": [],
   "source": [
    "tokens = []\n",
    "for token in article:\n",
    "    tokens.append(token)\n",
    "\n",
    "def we_care_about(t):\n",
    "    #lexeme = nlp.vocab[t]\n",
    "    lexeme = t\n",
    "    return not lexeme.is_space and not lexeme.is_punct and not lexeme.is_stop\n",
    "\n",
    "cool_lemmas = [t.lemma_ for t in tokens if we_care_about(t)]\n",
    "\n"
   ]
  },
  {
   "cell_type": "code",
   "execution_count": 5,
   "id": "seven-wallpaper",
   "metadata": {},
   "outputs": [],
   "source": [
    "from collections import Counter\n",
    "\n",
    "freqs = Counter(cool_lemmas)\n",
    "N = 15\n",
    "interesting_words = [x for x,_ in freqs.most_common(N)]\n",
    "\n"
   ]
  },
  {
   "cell_type": "code",
   "execution_count": 6,
   "id": "affected-huntington",
   "metadata": {},
   "outputs": [],
   "source": [
    "word_weights = dict()\n",
    "most_common_freq = freqs.most_common(1)[0][1]\n",
    "weight_mult = 1 / most_common_freq\n",
    "for word in interesting_words:\n",
    "    word_weights[word] = freqs[word] * weight_mult"
   ]
  },
  {
   "cell_type": "code",
   "execution_count": 7,
   "id": "controlling-worry",
   "metadata": {},
   "outputs": [],
   "source": [
    "def score_sent(sent, weights):\n",
    "    score = 0.0\n",
    "    for word in sent:\n",
    "        score += weights.get(word.lemma_, 0.0)\n",
    "    return score / len(sent)"
   ]
  },
  {
   "cell_type": "code",
   "execution_count": 8,
   "id": "medieval-charter",
   "metadata": {},
   "outputs": [],
   "source": [
    "sent_and_scores = []\n",
    "for sent in sents:\n",
    "    sent_and_scores.append((sent, score_sent(sent, word_weights)))"
   ]
  },
  {
   "cell_type": "code",
   "execution_count": 9,
   "id": "decreased-greensboro",
   "metadata": {},
   "outputs": [
    {
     "data": {
      "image/png": "[encoded data removed]",
      "text/plain": [
       "<Figure size 432x288 with 1 Axes>"
      ]
     },
     "metadata": {
      "needs_background": "light"
     },
     "output_type": "display_data"
    }
   ],
   "source": [
    "_,scores = zip(*sent_and_scores)\n",
    "\n",
    "import matplotlib.pyplot as plt\n",
    "plt.hist(scores)\n",
    "plt.show()"
   ]
  },
  {
   "cell_type": "code",
   "execution_count": 10,
   "id": "closing-albert",
   "metadata": {},
   "outputs": [
    {
     "name": "stdout",
     "output_type": "stream",
     "text": [
      "[Mansour Behabadi] wanted to harness the high power capability of USB-C using as simple a hardware design as possible.\n",
      "After some research and experimental prototyping, he designed the fpx — an easy to use USB‑C power delivery board.\n",
      "The fpx is an improved follow up to his earlier USB PD project fabpide2 which we featured some time back.\n",
      "However, practical implementation of the USB PD protocol can be a bed of thorns.\n",
      "Negotiating power delivery usually requires a dedicated PD controller coupled with a micro-controller for user control.\n",
      "With USB PD, a USB-C port can be configured as either a source, a sink, or both and allows connected devices to negotiate up to 100 W (20 V, 5 A) of power.\n",
      "The fpx is based around the popular STUSB4500 PD controller, which does most of the PD heavy lifting.\n",
      "To program the STUSB4500, he used an ATtiny 816 micro-controller, whose UPDI programming and debugging interface consumes lower board real estate.\n",
      "Using light isn’t a particularly new way of programming.\n",
      "The ATtiny then communicates with the STUSB4500 over I2C.\n",
      "The STUSB4500 can store two separate PDO values and can negotiate with a source according to its capability.\n",
      "The fpx is an open source project, accessible on Github.\n"
     ]
    }
   ],
   "source": [
    "\n",
    "\n",
    "SCORE_THRESH = 0.075\n",
    "summary = filter(lambda sent_score: sent_score[1] >= SCORE_THRESH, sent_and_scores)\n",
    "for sent, score in summary:\n",
    "    print(sent.text.strip())\n",
    "\n"
   ]
  },
  {
   "cell_type": "code",
   "execution_count": 12,
   "id": "alternate-worship",
   "metadata": {},
   "outputs": [
    {
     "name": "stdout",
     "output_type": "stream",
     "text": [
      "['fpx', 'PD', 'usb', 'power', 'controller', 'source', 'programming', 'Mansour', 'use', 'board', 'project', 'negotiate', 'STUSB4500', 'ATtiny', 'capability']\n"
     ]
    }
   ],
   "source": [
    "print(interesting_words)"
   ]
  }
 ],
 "metadata": {
  "kernelspec": {
   "display_name": "Python 3",
   "language": "python",
   "name": "python3"
  },
  "language_info": {
   "codemirror_mode": {
    "name": "ipython",
    "version": 3
   },
   "file_extension": ".py",
   "mimetype": "text/x-python",
   "name": "python",
   "nbconvert_exporter": "python",
   "pygments_lexer": "ipython3",
   "version": "3.9.2"
  }
 },
 "nbformat": 4,
 "nbformat_minor": 5
}
